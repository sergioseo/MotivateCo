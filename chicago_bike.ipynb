{
 "cells": [
  {
   "cell_type": "markdown",
   "metadata": {},
   "source": [
    "# Trabalhando o dataSet para primeiras análises "
   ]
  },
  {
   "cell_type": "code",
   "execution_count": 50,
   "metadata": {},
   "outputs": [],
   "source": [
    "# coding: utf-8\n",
    "import csv\n",
    "import matplotlib.pyplot as plt"
   ]
  },
  {
   "cell_type": "code",
   "execution_count": 51,
   "metadata": {},
   "outputs": [
    {
     "name": "stdout",
     "output_type": "stream",
     "text": [
      "Lendo o documento...\n",
      "Ok!\n"
     ]
    }
   ],
   "source": [
    "# Vamos ler os dados como uma lista\n",
    "print(\"Lendo o documento...\")\n",
    "with open(\"chicago.csv\", \"r\") as file_read:\n",
    "    reader = csv.reader(file_read)\n",
    "    data_list = list(reader)\n",
    "print(\"Ok!\")"
   ]
  },
  {
   "cell_type": "code",
   "execution_count": 52,
   "metadata": {},
   "outputs": [
    {
     "name": "stdout",
     "output_type": "stream",
     "text": [
      "Número de linhas:\n",
      "1551506\n"
     ]
    }
   ],
   "source": [
    "# Vamos verificar quantas linhas nós temos\n",
    "print(\"Número de linhas:\")\n",
    "print(len(data_list))"
   ]
  },
  {
   "cell_type": "code",
   "execution_count": 53,
   "metadata": {},
   "outputs": [
    {
     "name": "stdout",
     "output_type": "stream",
     "text": [
      "Linha 0: \n",
      "['Start Time', 'End Time', 'Trip Duration', 'Start Station', 'End Station', 'User Type', 'Gender', 'Birth Year']\n"
     ]
    }
   ],
   "source": [
    "# Imprimindo a primeira linha de data_list para verificar se funcionou.\n",
    "# É o cabeçalho dos dados, para que possamos identificar as colunas.\n",
    "print(\"Linha 0: \")\n",
    "print(data_list[0])"
   ]
  },
  {
   "cell_type": "code",
   "execution_count": 54,
   "metadata": {},
   "outputs": [
    {
     "name": "stdout",
     "output_type": "stream",
     "text": [
      "Linha 1: \n",
      "['2017-01-01 00:00:36', '2017-01-01 00:06:32', '356', 'Canal St & Taylor St', 'Canal St & Monroe St (*)', 'Customer', '', '']\n"
     ]
    }
   ],
   "source": [
    "# Imprimindo a segunda linha de data_list, ela deveria conter alguns dados\n",
    "print(\"Linha 1: \")\n",
    "print(data_list[1])"
   ]
  },
  {
   "cell_type": "markdown",
   "metadata": {},
   "source": [
    "## Vamos imprimir as primeiras 20 linhas usando um loop para identificar os dados."
   ]
  },
  {
   "cell_type": "code",
   "execution_count": 55,
   "metadata": {},
   "outputs": [],
   "source": [
    "# Vamos mudar o data_list para remover o cabeçalho dele.\n",
    "data_list = data_list[1:]\n",
    "\n",
    "# Nós podemos acessar as features pelo índice\n",
    "# Por exemplo: sample[6] para imprimir gênero, ou sample[-2]"
   ]
  },
  {
   "cell_type": "code",
   "execution_count": 56,
   "metadata": {},
   "outputs": [
    {
     "name": "stdout",
     "output_type": "stream",
     "text": [
      "[['2017-01-01 00:00:36', '2017-01-01 00:06:32', '356', 'Canal St & Taylor St', 'Canal St & Monroe St (*)', 'Customer', '', ''], ['2017-01-01 00:02:54', '2017-01-01 00:08:21', '327', 'Larrabee St & Menomonee St', 'Sheffield Ave & Kingsbury St', 'Subscriber', 'Male', '1984.0'], ['2017-01-01 00:06:06', '2017-01-01 00:18:31', '745', 'Orleans St & Chestnut St (NEXT Apts)', 'Ashland Ave & Blackhawk St', 'Subscriber', 'Male', '1985.0'], ['2017-01-01 00:07:28', '2017-01-01 00:12:51', '323', 'Franklin St & Monroe St', 'Clinton St & Tilden St', 'Subscriber', 'Male', '1990.0'], ['2017-01-01 00:07:57', '2017-01-01 00:20:53', '776', 'Broadway & Barry Ave', 'Sedgwick St & North Ave', 'Subscriber', 'Male', '1990.0'], ['2017-01-01 00:10:44', '2017-01-01 00:21:27', '643', 'State St & Kinzie St', 'Wells St & Polk St', 'Subscriber', 'Male', '1970.0'], ['2017-01-01 00:11:34', '2017-01-01 00:23:47', '733', 'Wabash Ave & Wacker Pl', 'Clinton St & Tilden St', 'Subscriber', 'Male', '1986.0'], ['2017-01-01 00:14:57', '2017-01-01 00:26:22', '685', 'Daley Center Plaza', 'Canal St & Monroe St (*)', 'Customer', '', ''], ['2017-01-01 00:15:03', '2017-01-01 00:26:28', '685', 'Daley Center Plaza', 'Canal St & Monroe St (*)', 'Customer', '', ''], ['2017-01-01 00:17:01', '2017-01-01 00:29:49', '768', 'Dayton St & North Ave', 'Ogden Ave & Chicago Ave', 'Customer', '', ''], ['2017-01-01 00:17:13', '2017-01-01 11:03:34', '38781', 'Wilton Ave & Diversey Pkwy', 'Halsted St & Wrightwood Ave', 'Subscriber', 'Female', '1988.0'], ['2017-01-01 00:18:28', '2017-01-01 00:31:05', '757', 'Canal St & Madison St', 'LaSalle St & Illinois St', 'Customer', '', ''], ['2017-01-01 00:18:50', '2017-01-01 00:21:47', '177', 'Theater on the Lake', 'Lakeview Ave & Fullerton Pkwy', 'Subscriber', 'Male', '1991.0'], ['2017-01-01 00:23:41', '2017-01-01 00:29:13', '332', 'Halsted St & Maxwell St', 'Halsted St & 18th St', 'Subscriber', 'Male', '1984.0'], ['2017-01-01 00:25:47', '2017-01-01 00:39:53', '846', 'Ravenswood Ave & Lawrence Ave', 'Clarendon Ave & Gordon Ter', 'Subscriber', 'Female', '1987.0'], ['2017-01-01 00:25:47', '2017-01-01 00:43:23', '1056', 'Clark St & Congress Pkwy', 'Wolcott Ave & Polk St', 'Subscriber', 'Male', '1984.0'], ['2017-01-01 00:26:21', '2017-01-01 00:39:40', '799', 'Ravenswood Ave & Lawrence Ave', 'Clarendon Ave & Gordon Ter', 'Subscriber', 'Male', '1987.0'], ['2017-01-01 00:27:21', '2017-01-01 00:42:59', '938', 'Millennium Park', 'Michigan Ave & 18th St', 'Subscriber', 'Male', '1991.0'], ['2017-01-01 00:27:28', '2017-01-01 00:42:44', '916', 'Millennium Park', 'Michigan Ave & 18th St', 'Subscriber', 'Female', '1990.0'], ['2017-01-01 00:27:45', '2017-01-01 00:31:13', '208', 'Damen Ave & Chicago Ave', 'Damen Ave & Division St', 'Subscriber', 'Male', '1982.0']]\n"
     ]
    }
   ],
   "source": [
    "# Primeiras 20 listas da data_list\n",
    "print(data_list[0:20])"
   ]
  },
  {
   "cell_type": "markdown",
   "metadata": {},
   "source": [
    "### Vamos Imprimir os gêneros das primeiras 20 linhas usando loop"
   ]
  },
  {
   "cell_type": "code",
   "execution_count": 57,
   "metadata": {},
   "outputs": [
    {
     "name": "stdout",
     "output_type": "stream",
     "text": [
      "Line : 1\tGender: \n",
      "Line : 2\tGender: Male\n",
      "Line : 3\tGender: Male\n",
      "Line : 4\tGender: Male\n",
      "Line : 5\tGender: Male\n",
      "Line : 6\tGender: Male\n",
      "Line : 7\tGender: Male\n",
      "Line : 8\tGender: \n",
      "Line : 9\tGender: \n",
      "Line : 10\tGender: \n",
      "Line : 11\tGender: Female\n",
      "Line : 12\tGender: \n",
      "Line : 13\tGender: Male\n",
      "Line : 14\tGender: Male\n",
      "Line : 15\tGender: Female\n",
      "Line : 16\tGender: Male\n",
      "Line : 17\tGender: Male\n",
      "Line : 18\tGender: Male\n",
      "Line : 19\tGender: Female\n",
      "Line : 20\tGender: Male\n"
     ]
    }
   ],
   "source": [
    "# Primeiros 20 Gêneros separados em lista\n",
    "for i, line in enumerate(data_list[:20],start=1):\n",
    "    print(f\"Line : {i}\\tGender: {line[-2]}\")"
   ]
  },
  {
   "cell_type": "code",
   "execution_count": 58,
   "metadata": {},
   "outputs": [],
   "source": [
    "# Vamos criar uma função para adicionar as colunas(features) de uma lista em outra lista, na mesma ordem\n",
    "def column_to_list(data, index):\n",
    "    \"\"\"\n",
    "    Definir uma função com objetivo de criar lista de generos dentro dos 20 primeiros itens da lista.\n",
    "    INPUT:\n",
    "        param1: data representa a lista de onde serão colhidos itens para a amostra.\n",
    "        param2: index representa a posição na lista da qual serão colhidos valores.\n",
    "    OUTPUT:\n",
    "        Imprimi uma lista de valores da nova lista.\n",
    "        \"\"\"\n",
    "    column_list = []\n",
    "    for i in data_list:\n",
    "        column_list.append(i[index])\n",
    "    return column_list"
   ]
  },
  {
   "cell_type": "code",
   "execution_count": 80,
   "metadata": {},
   "outputs": [
    {
     "name": "stdout",
     "output_type": "stream",
     "text": [
      "\n",
      "Imprimindo a lista de gêneros das primeiras 20 amostras:\n",
      "['', 'Male', 'Male', 'Male', 'Male', 'Male', 'Male', '', '', '', 'Female', '', 'Male', 'Male', 'Female', 'Male', 'Male', 'Male', 'Female', 'Male']\n"
     ]
    }
   ],
   "source": [
    "# Vamos checar com os gêneros se isso está funcionando (apenas para os primeiros 20)\n",
    "print(\"\\nImprimindo a lista de gêneros das primeiras 20 amostras:\")\n",
    "print(column_to_list(data_list, -2)[:20])\n"
   ]
  },
  {
   "cell_type": "code",
   "execution_count": 60,
   "metadata": {},
   "outputs": [
    {
     "name": "stdout",
     "output_type": "stream",
     "text": [
      "\n",
      "Imprimindo quantos masculinos e femininos nós encontramos\n",
      "Masculinos:  935854 \n",
      "Femininos:  298784\n"
     ]
    }
   ],
   "source": [
    "# Vamos contar cada gênero.\n",
    "\"\"\"\n",
    "    Loop usando for para contar quantos itens possuem em cada lista.\n",
    "    INPUT:\n",
    "        param1: if para achar o numero exato do item Male.\n",
    "        param2: elif para achar o numero exato do item Female.\n",
    "    OUTPUT:\n",
    "        Imprimi duas listas de valores com a contagem de Male e Female.\n",
    "\"\"\"\n",
    "male = 0\n",
    "female = 0\n",
    "others = 0\n",
    "\n",
    "for genero in data_list:\n",
    "    if genero[-2] == \"Male\":\n",
    "        male = male + 1\n",
    "\n",
    "    elif genero[-2] == \"Female\":\n",
    "        female = female + 1\n",
    "\n",
    "# Verificando o resultado\n",
    "print(\"\\nImprimindo quantos masculinos e femininos nós encontramos\")\n",
    "print(\"Masculinos: \", male, \"\\nFemininos: \", female)\n"
   ]
  },
  {
   "cell_type": "code",
   "execution_count": 79,
   "metadata": {},
   "outputs": [
    {
     "name": "stdout",
     "output_type": "stream",
     "text": [
      "\n",
      "Imprimindo a lista de count_gender:\n",
      "[935854, 298784]\n"
     ]
    }
   ],
   "source": [
    "# Vamos criar uma função para contar os gêneros e retornar uma list.\n",
    "\"\"\"\n",
    "    Loop usando for para contar quantos itens possuem em cada lista.\n",
    "    INPUT:\n",
    "        param1: if para achar o numero exato do item Male.\n",
    "        param2: elif para achar o numero exato do item Female.\n",
    "    OUTPUT:\n",
    "        Return: Junta os valores com a contagem de Male e Female em uma só lista.\n",
    "\"\"\"\n",
    "def count_gender(data_list):\n",
    "    male = 0\n",
    "    female = 0\n",
    "    # Fazendo o Loop na data_list, iremos conseguir os valores de \"male\" e \"female\".\n",
    "    for gender in data_list:\n",
    "        if gender[-2] == \"Male\":\n",
    "            male = male + 1\n",
    "\n",
    "        elif gender[-2] == \"Female\":\n",
    "            female = female + 1\n",
    "\n",
    "    return [male, female]\n",
    "\n",
    "\n",
    "print(\"\\nImprimindo a lista de count_gender:\")\n",
    "print(count_gender(data_list))"
   ]
  },
  {
   "cell_type": "markdown",
   "metadata": {},
   "source": [
    "## Descobrindo qual o Gênero mais popular"
   ]
  },
  {
   "cell_type": "code",
   "execution_count": 62,
   "metadata": {},
   "outputs": [],
   "source": [
    "# Vamos Criar uma função que pegue o gênero mais popular, e retorne este gênero como uma string.\n",
    "# Esperamos ver \"Male\", \"Female\", ou \"Equal\" como resposta.\n",
    "def most_popular_gender(data_list):\n",
    "    \"\"\"\n",
    "        Definindo a primeira função para fazer a contagem individual dos generos.\n",
    "        Depois, usamos loop para descobrir qual os valores das listas Male e Female\n",
    "        INPUT:\n",
    "            param1: data_list para buscar valores dos generos.\n",
    "            if para descobrir valores da lista Male.\n",
    "            elif para descobrir valores da lista Female.\n",
    "        OUTPUT:\n",
    "            Return: Junta os valores com a contagem de Male e Female em uma só lista.\n",
    "    \"\"\"\n",
    "\n",
    "    male = 0\n",
    "    female = 0\n",
    "# Fazendo o Loop na data_list, iremos conseguir os valores de \"male\" e \"female\".\n",
    "    for gender in data_list:\n",
    "        if gender[-2] == \"Male\":\n",
    "            male = male + 1\n",
    "\n",
    "        elif gender[-2] == \"Female\":\n",
    "            female = female + 1\n",
    "\n",
    "    return [male, female]"
   ]
  },
  {
   "cell_type": "code",
   "execution_count": 78,
   "metadata": {},
   "outputs": [
    {
     "name": "stdout",
     "output_type": "stream",
     "text": [
      "\n",
      "Qual é o gênero mais popular na lista?\n",
      "R: Male\n"
     ]
    }
   ],
   "source": [
    "# Agora vamos definir qual o gênero mais popular\n",
    "def most_popular_gender(data_list):\n",
    "    \"\"\"\n",
    "        Depois definimos a segunda função para descobrir o valor do item mais popular.\n",
    "        Usamos loop para definir o item mais popular.\n",
    "        INPUT:\n",
    "            param1: data_list para buscar valores dos generos.\n",
    "            if se Male for maior que Female.\n",
    "            elif se Female for maior que Male.\n",
    "            elif se Male for igual a Female.\n",
    "        OUTPUT:\n",
    "            Return: Retorna uma lista com o genero predominante.\n",
    "    \"\"\"\n",
    "    answer = \"\"\n",
    "\n",
    "    if male > female:\n",
    "        return(\"Male\")\n",
    "\n",
    "    elif female > male:\n",
    "        return(\"Female\")\n",
    "\n",
    "    elif male == female:\n",
    "        return(\"Equal\")\n",
    "\n",
    "    return answer\n",
    "\n",
    "print(\"\\nQual é o gênero mais popular na lista?\")\n",
    "print(\"R:\", most_popular_gender(data_list))\n"
   ]
  },
  {
   "cell_type": "markdown",
   "metadata": {},
   "source": [
    "* Assim descobrimos que o gênero que mais fez uso da bike, de acordo com o dataFrame, foi o gênero Masculino"
   ]
  },
  {
   "cell_type": "code",
   "execution_count": 64,
   "metadata": {},
   "outputs": [
    {
     "data": {
      "image/png": "[encoded data removed]",
      "text/plain": [
       "<Figure size 432x288 with 1 Axes>"
      ]
     },
     "metadata": {
      "needs_background": "light"
     },
     "output_type": "display_data"
    }
   ],
   "source": [
    "# Através deste gráfico podemos ver a diferença do numero de gêneros\n",
    "gender_list = column_to_list(data_list, -2)\n",
    "types = [\"Male\", \"Female\"]\n",
    "quantity = count_gender(data_list)\n",
    "y_pos = list(range(len(types)))\n",
    "plt.bar(y_pos, quantity)\n",
    "plt.ylabel('Quantidade')\n",
    "plt.xlabel('Gênero')\n",
    "plt.xticks(y_pos, types)\n",
    "plt.title('Quantidade por Gênero')\n",
    "plt.show(block=True)"
   ]
  },
  {
   "cell_type": "markdown",
   "metadata": {},
   "source": [
    "## Trabalhando com o User_types"
   ]
  },
  {
   "cell_type": "code",
   "execution_count": 65,
   "metadata": {},
   "outputs": [],
   "source": [
    "\"\"\"\n",
    "    Definir uma função para fazer a contagem do tipo de usuario dentro da data_list.\n",
    "    Usamos loop para fazer a contagem os itens\n",
    "    INPUT:\n",
    "        param1: data_list para buscar valores dos user_types.\n",
    "        if para contagem do item Customer.\n",
    "        elif para contagem do item Subscriber.\n",
    "    OUTPUT:\n",
    "        Return: Retorna uma lista com a contagem dos user_types.\n",
    "\"\"\"\n",
    "def count_user(data_list):\n",
    "    customer = 0\n",
    "    subscriber = 0\n",
    "# Fazendo o Loop na data_list, iremos conseguir os valores de \"Customer\" e \"Subscriber\".\n",
    "    for user in data_list:\n",
    "        if user[-3] == \"Customer\":\n",
    "            customer = customer + 1\n",
    "\n",
    "        elif user[-3] == \"Subscriber\":\n",
    "            subscriber = subscriber + 1\n",
    "\n",
    "    return [customer, subscriber]"
   ]
  },
  {
   "cell_type": "code",
   "execution_count": 66,
   "metadata": {},
   "outputs": [],
   "source": [
    "\"\"\"\n",
    "    Depois definimos a segunda função para descobrir o valor do item mais popular.\n",
    "    Usamos loop para definir o item mais popular dentro da data_list.\n",
    "    INPUT:\n",
    "        param1: data_list para buscar valores dos user_types.\n",
    "        if se Customer for maior que Subscriber.\n",
    "        elif se Subscriber for maior que Customer.\n",
    "        elif se Customer for igual a Subscriber.\n",
    "    OUTPUT:\n",
    "        Return: Retorna uma lista com o user_type predominante.\n",
    "\"\"\"\n",
    "# Função para definir qual o user mais popular\n",
    "def most_popular_user(data_list):\n",
    "    answer = \"\"\n",
    "\n",
    "    if customer > subscriber:\n",
    "        return(\"Customer\")\n",
    "\n",
    "    elif subscriber > customer:\n",
    "        return(\"Subscriber\")\n",
    "\n",
    "    elif customer == subscriber:\n",
    "        return(\"Equal\")\n",
    "\n",
    "    return answer"
   ]
  },
  {
   "cell_type": "code",
   "execution_count": 67,
   "metadata": {},
   "outputs": [
    {
     "data": {
      "image/png": "[encoded data removed]",
      "text/plain": [
       "<Figure size 432x288 with 1 Axes>"
      ]
     },
     "metadata": {
      "needs_background": "light"
     },
     "output_type": "display_data"
    }
   ],
   "source": [
    "# Plotando gráfico para ver os resultados\n",
    "user_type_list = column_to_list(data_list, -3)\n",
    "types = [\"Customer\", \"Subscriber\"]\n",
    "quantity = count_user(data_list)\n",
    "y_pos = list(range(len(types)))\n",
    "plt.bar(y_pos, quantity)\n",
    "plt.ylabel('Quantidade')\n",
    "plt.xlabel('Usuário')\n",
    "plt.xticks(y_pos, types)\n",
    "plt.title('Quantidade por Usuário')\n",
    "plt.show(block=True)"
   ]
  },
  {
   "cell_type": "markdown",
   "metadata": {},
   "source": [
    "* Assim podemos perceber que temos um numero muito maior de \"Subscriber\" do que de \"Customer\"."
   ]
  },
  {
   "cell_type": "markdown",
   "metadata": {},
   "source": [
    "## Trabalhando com Trip_duration"
   ]
  },
  {
   "cell_type": "code",
   "execution_count": 68,
   "metadata": {},
   "outputs": [],
   "source": [
    "# Vamos trabalhar com trip_duration (duração da viagem) agora.\n",
    "# Primeiro iremos achar a duração de viagem Mínima, Máxima, Média, e Mediana usando uma função.\n",
    "\"\"\"\n",
    "    Definir uma função para descobrir os valor da coluna trip_duration.\n",
    "    Definir atraves do sorted o valor minino e o valor maximo da data_list.\n",
    "    Definir atraves de map, sum e round o valor medio da lista data-list.\n",
    "    Definir atraves de if e elif o valor mediano da lista data_list.\n",
    "    INPUT:\n",
    "        Usar len para definir a quantidade de itens da coluna trip_duration.\n",
    "        Usar sorted para organizar uma lista com os valores na ordem crescrente.\n",
    "        Usar map, sum e round para definir a media da lista somando todos os itens e dividindo pelo total de itens da coluna trip_duration.\n",
    "        Usar if para valores pares e elif para valores impares\n",
    "    OUTPUT:\n",
    "        Retorna uma lista de valores para os itens min_trip\n",
    "        Retorna uma lista de valores para os itens max_trip\n",
    "        Retorna uma lista de valores para os itens mean_trip\n",
    "        Retorna uma lista de valores para os itens median_trip\n",
    "\"\"\"\n",
    "trip_duration_list = column_to_list(data_list, 2)\n",
    "min_trip = 0.\n",
    "max_trip = 0.\n",
    "mean_trip = 0.\n",
    "median_trip = 0."
   ]
  },
  {
   "cell_type": "code",
   "execution_count": 69,
   "metadata": {},
   "outputs": [],
   "source": [
    "# Vamos encontrar a quantidade de itens da Lista\n",
    "x = len(trip_duration_list)"
   ]
  },
  {
   "cell_type": "code",
   "execution_count": 70,
   "metadata": {},
   "outputs": [],
   "source": [
    "# Vamos ordenar a lista do menor para o maior, já que não podemos usar o max() e o min()\n",
    "ordered_list = sorted(trip_duration_list, key = int)"
   ]
  },
  {
   "cell_type": "code",
   "execution_count": 71,
   "metadata": {},
   "outputs": [],
   "source": [
    "# Agora teremos o menor e o maior valor da lista\n",
    "min_trip = int(ordered_list[0])\n",
    "max_trip = int(ordered_list[-1])"
   ]
  },
  {
   "cell_type": "code",
   "execution_count": 72,
   "metadata": {},
   "outputs": [],
   "source": [
    "# Agora faremos a contagem para achar a media\n",
    "lista_num = map(int, ordered_list)\n",
    "soma = sum(lista_num)\n",
    "mean_trip = soma / x\n",
    "mean_trip = round(mean_trip)"
   ]
  },
  {
   "cell_type": "code",
   "execution_count": 73,
   "metadata": {},
   "outputs": [],
   "source": [
    "# Vamos achar a mediana da lista\n",
    "if x % 2 == 0:\n",
    "    median_trip = (ordered_list[int((x/2)-1)] + ordered_list[int((x/2))])/2\n",
    "else:\n",
    "    median_trip = int(ordered_list[int(((x-1)/2))])"
   ]
  },
  {
   "cell_type": "code",
   "execution_count": 74,
   "metadata": {},
   "outputs": [
    {
     "name": "stdout",
     "output_type": "stream",
     "text": [
      "\n",
      "Imprimindo o mínimo, máximo, média, e mediana\n",
      "Minimo:  60 \n",
      "Maximo:  86338 \n",
      "Média:  940 \n",
      "Mediana:  670\n"
     ]
    }
   ],
   "source": [
    "# Printando os resultados\n",
    "print(\"\\nImprimindo o mínimo, máximo, média, e mediana\")\n",
    "print(\"Minimo: \", min_trip, \"\\nMaximo: \", max_trip, \"\\nMédia: \", mean_trip, \"\\nMediana: \", median_trip)"
   ]
  },
  {
   "cell_type": "markdown",
   "metadata": {},
   "source": [
    "## Trabalhando com Start_stations"
   ]
  },
  {
   "cell_type": "code",
   "execution_count": 75,
   "metadata": {},
   "outputs": [
    {
     "name": "stdout",
     "output_type": "stream",
     "text": [
      "\n",
      "Imprimindo as start stations:\n",
      "582\n"
     ]
    }
   ],
   "source": [
    "# Vamos rerificar quantos tipos de start_stations nós temos\n",
    "start_station = column_to_list(data_list, 3)\n",
    "user_types = set(start_station)\n",
    "\n",
    "print(\"\\nImprimindo as start stations:\")\n",
    "print(len(user_types))"
   ]
  },
  {
   "cell_type": "code",
   "execution_count": null,
   "metadata": {},
   "outputs": [],
   "source": []
  }
 ],
 "metadata": {
  "kernelspec": {
   "display_name": "Python 3",
   "language": "python",
   "name": "python3"
  },
  "language_info": {
   "codemirror_mode": {
    "name": "ipython",
    "version": 3
   },
   "file_extension": ".py",
   "mimetype": "text/x-python",
   "name": "python",
   "nbconvert_exporter": "python",
   "pygments_lexer": "ipython3",
   "version": "3.7.3"
  }
 },
 "nbformat": 4,
 "nbformat_minor": 2
}
